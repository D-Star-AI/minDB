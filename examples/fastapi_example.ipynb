{
 "cells": [
  {
   "cell_type": "markdown",
   "metadata": {},
   "source": [
    "## FastAPI Tutorial\n",
    "\n",
    "This requires uvicorn and fastapi to be installed by running\n",
    "\n",
    "`pip install fastapi uvicorn`\n",
    "\n",
    "In order to start the FastAPI, open up a terminal and run the following command (This must be done from the root directory of this project):\n",
    "\n",
    "`uvicorn api.fastapi:app --host 0.0.0.0 --port 8000`"
   ]
  },
  {
   "cell_type": "markdown",
   "metadata": {},
   "source": [
    "### Setup the environment\n",
    "\n",
    "Load in the necessary packages and append the paths needed"
   ]
  },
  {
   "cell_type": "code",
   "execution_count": null,
   "metadata": {},
   "outputs": [],
   "source": [
    "import requests\n",
    "import pickle\n",
    "import sys\n",
    "import os\n",
    "\n",
    "# Load in minDB from the local directory\n",
    "current_dir = os.getcwd()\n",
    "sys.path.append(current_dir + \"/../\")\n",
    "sys.path.append(current_dir + \"/../tests/integration/\")\n",
    "\n",
    "from mindb.mindb import minDB\n",
    "from tests.data import helpers"
   ]
  },
  {
   "cell_type": "code",
   "execution_count": null,
   "metadata": {},
   "outputs": [],
   "source": [
    "# Load in the Fiqa test data\n",
    "vectors, text, queries, _ = helpers.fiqa_test_data()\n",
    "with open(current_dir + \"/../tests/data/fiqa_queries_text.pickle\", \"rb\") as f:\n",
    "    query_text = pickle.load(f)\n",
    "# Vectors needs to be a list when using FastAPI\n",
    "vectors = vectors.tolist()\n"
   ]
  },
  {
   "cell_type": "markdown",
   "metadata": {},
   "source": [
    "### Create the minDB object"
   ]
  },
  {
   "cell_type": "code",
   "execution_count": null,
   "metadata": {},
   "outputs": [],
   "source": [
    "# Create a new minDB\n",
    "\n",
    "db_name = \"fast_api_test\"\n",
    "url = \"http://0.0.0.0:8000/db/create\"\n",
    "response = requests.post(url, json={\"name\": db_name})\n",
    "print (response.text)"
   ]
  },
  {
   "cell_type": "markdown",
   "metadata": {},
   "source": [
    "### Add data to the minDB object\n",
    "\n",
    "Adding data to the minDB object using FastAPI must be done in batches. We recommend using a batch size of ~100. Pushing this number too high will result in a failure\n",
    "\n",
    "The data must also be a list. Numpy arrays are not a valid data type for FastAPI"
   ]
  },
  {
   "cell_type": "code",
   "execution_count": null,
   "metadata": {},
   "outputs": [],
   "source": [
    "# Add the data to the minDB in batches of 100\n",
    "batch_size = 1000\n",
    "data = [(vectors[i], {\"text\": text[i]}) for i in range(len(vectors))]\n",
    "\n",
    "url = f\"http://0.0.0.0:8000/db/{db_name}/add\"\n",
    "\n",
    "for i in range(0, 10000, batch_size):\n",
    "    print (i)\n",
    "    add_data = data[i:i+batch_size]\n",
    "    response = requests.post(url, json={\"add_data\": add_data})"
   ]
  },
  {
   "cell_type": "markdown",
   "metadata": {},
   "source": [
    "### Train the minDB object\n",
    "\n",
    "For this example, we are using PCA 256, compressed vector bytes of 32, and omitting OPQ\n",
    "\n",
    "For more information on these parameters, you can visit the Github Wiki [here](https://github.com/D-Star-AI/minDB/wiki/Tunable-parameters)"
   ]
  },
  {
   "cell_type": "code",
   "execution_count": null,
   "metadata": {},
   "outputs": [],
   "source": [
    "# Train the minDB\n",
    "\n",
    "url = f\"http://0.0.0.0:8000/db/{db_name}/train\"\n",
    "response = requests.post(url, json={\n",
    "    \"use_two_level_clustering\": False,\n",
    "    \"pca_dimension\": 256,\n",
    "    \"compressed_vector_bytes\": 32,\n",
    "    \"omit_opq\": True\n",
    "})\n",
    "print (response.text)"
   ]
  },
  {
   "cell_type": "markdown",
   "metadata": {},
   "source": [
    "### Query the trained index\n",
    "\n",
    "Make a test query using the `query` endpoint. The query vector must be converted to a list"
   ]
  },
  {
   "cell_type": "code",
   "execution_count": null,
   "metadata": {},
   "outputs": [],
   "source": [
    "url = f\"http://0.0.0.0:8000/db/{db_name}/query\"\n",
    "query_vector = queries[0].tolist()\n",
    "response = requests.post(url, json={\"query_vector\": query_vector})\n",
    "\n",
    "print (\"Query text:\", query_text[0])\n",
    "print (\"\")\n",
    "print (response.json()[\"metadata\"][0][\"text\"])"
   ]
  }
 ],
 "metadata": {
  "kernelspec": {
   "display_name": "Python 3.9.12 ('base')",
   "language": "python",
   "name": "python3"
  },
  "language_info": {
   "codemirror_mode": {
    "name": "ipython",
    "version": 3
   },
   "file_extension": ".py",
   "mimetype": "text/x-python",
   "name": "python",
   "nbconvert_exporter": "python",
   "pygments_lexer": "ipython3",
   "version": "3.9.12"
  },
  "orig_nbformat": 4,
  "vscode": {
   "interpreter": {
    "hash": "6493f77fe247bf2d19f0ba28dd5345ab8e8eb3b6587168c5c28be0d535e3568d"
   }
  }
 },
 "nbformat": 4,
 "nbformat_minor": 2
}
